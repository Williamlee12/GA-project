{
 "cells": [
  {
   "cell_type": "code",
   "execution_count": 1,
   "metadata": {
    "collapsed": true
   },
   "outputs": [],
   "source": [
    "import pandas as pd"
   ]
  },
  {
   "cell_type": "code",
   "execution_count": 2,
   "metadata": {
    "collapsed": true
   },
   "outputs": [],
   "source": [
    "meta = pd.read_csv(\"split_meta.csv\", encoding='utf-8')"
   ]
  },
  {
   "cell_type": "code",
   "execution_count": 3,
   "metadata": {},
   "outputs": [
    {
     "data": {
      "text/html": [
       "<div>\n",
       "<style>\n",
       "    .dataframe thead tr:only-child th {\n",
       "        text-align: right;\n",
       "    }\n",
       "\n",
       "    .dataframe thead th {\n",
       "        text-align: left;\n",
       "    }\n",
       "\n",
       "    .dataframe tbody tr th {\n",
       "        vertical-align: top;\n",
       "    }\n",
       "</style>\n",
       "<table border=\"1\" class=\"dataframe\">\n",
       "  <thead>\n",
       "    <tr style=\"text-align: right;\">\n",
       "      <th></th>\n",
       "      <th>Unnamed: 0</th>\n",
       "      <th>accounts</th>\n",
       "      <th>ch</th>\n",
       "      <th>chamber</th>\n",
       "      <th>id</th>\n",
       "      <th>name</th>\n",
       "      <th>party</th>\n",
       "      <th>screen_name</th>\n",
       "      <th>state</th>\n",
       "      <th>type</th>\n",
       "    </tr>\n",
       "  </thead>\n",
       "  <tbody>\n",
       "    <tr>\n",
       "      <th>0</th>\n",
       "      <td>0</td>\n",
       "      <td>{'office': [{'id': 817097052375187500, 'id_str...</td>\n",
       "      <td>no</td>\n",
       "      <td>house</td>\n",
       "      <td>NaN</td>\n",
       "      <td>Blue Collar Caucus</td>\n",
       "      <td>D</td>\n",
       "      <td>BlueCollarDems</td>\n",
       "      <td>NaN</td>\n",
       "      <td>caucus</td>\n",
       "    </tr>\n",
       "    <tr>\n",
       "      <th>1</th>\n",
       "      <td>1</td>\n",
       "      <td>{'office': [{'id': 224685124, 'id_str': '22468...</td>\n",
       "      <td>no</td>\n",
       "      <td>house</td>\n",
       "      <td>NaN</td>\n",
       "      <td>Blue Dog Coalition</td>\n",
       "      <td>D</td>\n",
       "      <td>HouseBlueDogs</td>\n",
       "      <td>NaN</td>\n",
       "      <td>caucus</td>\n",
       "    </tr>\n",
       "    <tr>\n",
       "      <th>2</th>\n",
       "      <td>2</td>\n",
       "      <td>{'office': [{'id': 192955168, 'id_str': '19295...</td>\n",
       "      <td>no</td>\n",
       "      <td>house</td>\n",
       "      <td>NaN</td>\n",
       "      <td>Congressional Asian Pacific American Caucus</td>\n",
       "      <td>D</td>\n",
       "      <td>CAPAC</td>\n",
       "      <td>NaN</td>\n",
       "      <td>caucus</td>\n",
       "    </tr>\n",
       "    <tr>\n",
       "      <th>3</th>\n",
       "      <td>3</td>\n",
       "      <td>{'office': [{'id': 233783568, 'id_str': '23378...</td>\n",
       "      <td>no</td>\n",
       "      <td>house</td>\n",
       "      <td>NaN</td>\n",
       "      <td>Congressional Black Caucus</td>\n",
       "      <td>D</td>\n",
       "      <td>OfficialCBC</td>\n",
       "      <td>NaN</td>\n",
       "      <td>caucus</td>\n",
       "    </tr>\n",
       "    <tr>\n",
       "      <th>4</th>\n",
       "      <td>4</td>\n",
       "      <td>{'office': [{'id': 20020575, 'id_str': '200205...</td>\n",
       "      <td>no</td>\n",
       "      <td>house</td>\n",
       "      <td>NaN</td>\n",
       "      <td>Congressional Health Caucus</td>\n",
       "      <td>R</td>\n",
       "      <td>HealthCaucus</td>\n",
       "      <td>NaN</td>\n",
       "      <td>caucus</td>\n",
       "    </tr>\n",
       "  </tbody>\n",
       "</table>\n",
       "</div>"
      ],
      "text/plain": [
       "   Unnamed: 0                                           accounts  ch chamber  \\\n",
       "0           0  {'office': [{'id': 817097052375187500, 'id_str...  no   house   \n",
       "1           1  {'office': [{'id': 224685124, 'id_str': '22468...  no   house   \n",
       "2           2  {'office': [{'id': 192955168, 'id_str': '19295...  no   house   \n",
       "3           3  {'office': [{'id': 233783568, 'id_str': '23378...  no   house   \n",
       "4           4  {'office': [{'id': 20020575, 'id_str': '200205...  no   house   \n",
       "\n",
       "    id                                         name party     screen_name  \\\n",
       "0  NaN                           Blue Collar Caucus     D  BlueCollarDems   \n",
       "1  NaN                           Blue Dog Coalition     D   HouseBlueDogs   \n",
       "2  NaN  Congressional Asian Pacific American Caucus     D           CAPAC   \n",
       "3  NaN                   Congressional Black Caucus     D     OfficialCBC   \n",
       "4  NaN                  Congressional Health Caucus     R    HealthCaucus   \n",
       "\n",
       "  state    type  \n",
       "0   NaN  caucus  \n",
       "1   NaN  caucus  \n",
       "2   NaN  caucus  \n",
       "3   NaN  caucus  \n",
       "4   NaN  caucus  "
      ]
     },
     "execution_count": 3,
     "metadata": {},
     "output_type": "execute_result"
    }
   ],
   "source": [
    "meta.head()"
   ]
  },
  {
   "cell_type": "code",
   "execution_count": 4,
   "metadata": {
    "collapsed": true
   },
   "outputs": [],
   "source": [
    "meta.drop('Unnamed: 0', axis=1, inplace = True)"
   ]
  },
  {
   "cell_type": "code",
   "execution_count": 5,
   "metadata": {
    "collapsed": true
   },
   "outputs": [],
   "source": [
    "meta.drop('accounts', axis=1, inplace = True)"
   ]
  },
  {
   "cell_type": "code",
   "execution_count": 6,
   "metadata": {
    "collapsed": true
   },
   "outputs": [],
   "source": [
    "meta.drop('id', axis=1, inplace = True)"
   ]
  },
  {
   "cell_type": "code",
   "execution_count": 7,
   "metadata": {},
   "outputs": [
    {
     "data": {
      "text/html": [
       "<div>\n",
       "<style>\n",
       "    .dataframe thead tr:only-child th {\n",
       "        text-align: right;\n",
       "    }\n",
       "\n",
       "    .dataframe thead th {\n",
       "        text-align: left;\n",
       "    }\n",
       "\n",
       "    .dataframe tbody tr th {\n",
       "        vertical-align: top;\n",
       "    }\n",
       "</style>\n",
       "<table border=\"1\" class=\"dataframe\">\n",
       "  <thead>\n",
       "    <tr style=\"text-align: right;\">\n",
       "      <th></th>\n",
       "      <th>ch</th>\n",
       "      <th>chamber</th>\n",
       "      <th>name</th>\n",
       "      <th>party</th>\n",
       "      <th>screen_name</th>\n",
       "      <th>state</th>\n",
       "      <th>type</th>\n",
       "    </tr>\n",
       "  </thead>\n",
       "  <tbody>\n",
       "    <tr>\n",
       "      <th>0</th>\n",
       "      <td>no</td>\n",
       "      <td>house</td>\n",
       "      <td>Blue Collar Caucus</td>\n",
       "      <td>D</td>\n",
       "      <td>BlueCollarDems</td>\n",
       "      <td>NaN</td>\n",
       "      <td>caucus</td>\n",
       "    </tr>\n",
       "    <tr>\n",
       "      <th>1</th>\n",
       "      <td>no</td>\n",
       "      <td>house</td>\n",
       "      <td>Blue Dog Coalition</td>\n",
       "      <td>D</td>\n",
       "      <td>HouseBlueDogs</td>\n",
       "      <td>NaN</td>\n",
       "      <td>caucus</td>\n",
       "    </tr>\n",
       "    <tr>\n",
       "      <th>2</th>\n",
       "      <td>no</td>\n",
       "      <td>house</td>\n",
       "      <td>Congressional Asian Pacific American Caucus</td>\n",
       "      <td>D</td>\n",
       "      <td>CAPAC</td>\n",
       "      <td>NaN</td>\n",
       "      <td>caucus</td>\n",
       "    </tr>\n",
       "    <tr>\n",
       "      <th>3</th>\n",
       "      <td>no</td>\n",
       "      <td>house</td>\n",
       "      <td>Congressional Black Caucus</td>\n",
       "      <td>D</td>\n",
       "      <td>OfficialCBC</td>\n",
       "      <td>NaN</td>\n",
       "      <td>caucus</td>\n",
       "    </tr>\n",
       "    <tr>\n",
       "      <th>4</th>\n",
       "      <td>no</td>\n",
       "      <td>house</td>\n",
       "      <td>Congressional Health Caucus</td>\n",
       "      <td>R</td>\n",
       "      <td>HealthCaucus</td>\n",
       "      <td>NaN</td>\n",
       "      <td>caucus</td>\n",
       "    </tr>\n",
       "  </tbody>\n",
       "</table>\n",
       "</div>"
      ],
      "text/plain": [
       "   ch chamber                                         name party  \\\n",
       "0  no   house                           Blue Collar Caucus     D   \n",
       "1  no   house                           Blue Dog Coalition     D   \n",
       "2  no   house  Congressional Asian Pacific American Caucus     D   \n",
       "3  no   house                   Congressional Black Caucus     D   \n",
       "4  no   house                  Congressional Health Caucus     R   \n",
       "\n",
       "      screen_name state    type  \n",
       "0  BlueCollarDems   NaN  caucus  \n",
       "1   HouseBlueDogs   NaN  caucus  \n",
       "2           CAPAC   NaN  caucus  \n",
       "3     OfficialCBC   NaN  caucus  \n",
       "4    HealthCaucus   NaN  caucus  "
      ]
     },
     "execution_count": 7,
     "metadata": {},
     "output_type": "execute_result"
    }
   ],
   "source": [
    "meta.head()"
   ]
  },
  {
   "cell_type": "code",
   "execution_count": 8,
   "metadata": {
    "collapsed": true
   },
   "outputs": [],
   "source": [
    "meta.to_csv('cleaned_meta.csv', encoding='utf-8')"
   ]
  }
 ],
 "metadata": {
  "kernelspec": {
   "display_name": "Python 3",
   "language": "python",
   "name": "python3"
  },
  "language_info": {
   "codemirror_mode": {
    "name": "ipython",
    "version": 3
   },
   "file_extension": ".py",
   "mimetype": "text/x-python",
   "name": "python",
   "nbconvert_exporter": "python",
   "pygments_lexer": "ipython3",
   "version": "3.6.3"
  }
 },
 "nbformat": 4,
 "nbformat_minor": 2
}
