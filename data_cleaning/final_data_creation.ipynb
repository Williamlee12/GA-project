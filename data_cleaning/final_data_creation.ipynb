{
 "cells": [
  {
   "cell_type": "code",
   "execution_count": 1,
   "metadata": {
    "collapsed": true
   },
   "outputs": [],
   "source": [
    "import pandas as pd"
   ]
  },
  {
   "cell_type": "code",
   "execution_count": 2,
   "metadata": {},
   "outputs": [],
   "source": [
    "df1 = pd.read_json(\"../raw_data/congress_tweets/congresstweets/data/2017-06-21.json\", encoding='utf-8')\n",
    "df2 = pd.read_json(\"../raw_data/congress_tweets/congresstweets/data/2017-06-22.json\", encoding='utf-8')\n",
    "df3 = pd.read_json(\"../raw_data/congress_tweets/congresstweets/data/2017-06-23.json\", encoding='utf-8')\n",
    "df4 = pd.read_json(\"../raw_data/congress_tweets/congresstweets/data/2017-06-24.json\", encoding='utf-8')\n",
    "df5 = pd.read_json(\"../raw_data/congress_tweets/congresstweets/data/2017-06-25.json\", encoding='utf-8')\n",
    "df6 = pd.read_json(\"../raw_data/congress_tweets/congresstweets/data/2017-06-26.json\", encoding='utf-8')\n",
    "df7 = pd.read_json(\"../raw_data/congress_tweets/congresstweets/data/2017-06-27.json\", encoding='utf-8')\n",
    "df8 = pd.read_json(\"../raw_data/congress_tweets/congresstweets/data/2017-06-28.json\", encoding='utf-8')\n",
    "df9 = pd.read_json(\"../raw_data/congress_tweets/congresstweets/data/2017-06-29.json\", encoding='utf-8')\n",
    "df10 = pd.read_json(\"../raw_data/congress_tweets/congresstweets/data/2017-06-30.json\", encoding='utf-8')\n",
    "df11 = pd.read_json(\"../raw_data/congress_tweets/congresstweets/data/2017-07-01.json\", encoding='utf-8')\n",
    "df12 = pd.read_json(\"../raw_data/congress_tweets/congresstweets/data/2017-07-02.json\", encoding='utf-8')\n",
    "df13 = pd.read_json(\"../raw_data/congress_tweets/congresstweets/data/2017-07-03.json\", encoding='utf-8')\n",
    "df14 = pd.read_json(\"../raw_data/congress_tweets/congresstweets/data/2017-07-04.json\", encoding='utf-8')\n",
    "df15 = pd.read_json(\"../raw_data/congress_tweets/congresstweets/data/2017-07-05.json\", encoding='utf-8')\n",
    "df16 = pd.read_json(\"../raw_data/congress_tweets/congresstweets/data/2017-07-06.json\", encoding='utf-8')\n",
    "df17 = pd.read_json(\"../raw_data/congress_tweets/congresstweets/data/2017-07-07.json\", encoding='utf-8')\n",
    "df18 = pd.read_json(\"../raw_data/congress_tweets/congresstweets/data/2017-07-08.json\", encoding='utf-8')\n",
    "df19 = pd.read_json(\"../raw_data/congress_tweets/congresstweets/data/2017-07-09.json\", encoding='utf-8')\n",
    "df20 = pd.read_json(\"../raw_data/congress_tweets/congresstweets/data/2017-07-10.json\", encoding='utf-8')\n",
    "df21 = pd.read_json(\"../raw_data/congress_tweets/congresstweets/data/2017-07-11.json\", encoding='utf-8')\n",
    "df22 = pd.read_json(\"../raw_data/congress_tweets/congresstweets/data/2017-07-12.json\", encoding='utf-8')\n",
    "df23 = pd.read_json(\"../raw_data/congress_tweets/congresstweets/data/2017-07-13.json\", encoding='utf-8')\n",
    "df24 = pd.read_json(\"../raw_data/congress_tweets/congresstweets/data/2017-07-14.json\", encoding='utf-8')\n",
    "df25 = pd.read_json(\"../raw_data/congress_tweets/congresstweets/data/2017-07-15.json\", encoding='utf-8')\n",
    "df26 = pd.read_json(\"../raw_data/congress_tweets/congresstweets/data/2017-07-16.json\", encoding='utf-8')\n",
    "df27 = pd.read_json(\"../raw_data/congress_tweets/congresstweets/data/2017-07-17.json\", encoding='utf-8')\n",
    "df28 = pd.read_json(\"../raw_data/congress_tweets/congresstweets/data/2017-07-18.json\", encoding='utf-8')\n",
    "df29 = pd.read_json(\"../raw_data/congress_tweets/congresstweets/data/2017-07-19.json\", encoding='utf-8')\n",
    "df30 = pd.read_json(\"../raw_data/congress_tweets/congresstweets/data/2017-07-20.json\", encoding='utf-8')\n",
    "df31 = pd.read_json(\"../raw_data/congress_tweets/congresstweets/data/2017-07-21.json\", encoding='utf-8')\n",
    "df32 = pd.read_json(\"../raw_data/congress_tweets/congresstweets/data/2017-07-22.json\", encoding='utf-8')\n",
    "df33 = pd.read_json(\"../raw_data/congress_tweets/congresstweets/data/2017-07-23.json\", encoding='utf-8')\n",
    "df34 = pd.read_json(\"../raw_data/congress_tweets/congresstweets/data/2017-07-24.json\", encoding='utf-8')\n",
    "df35 = pd.read_json(\"../raw_data/congress_tweets/congresstweets/data/2017-07-25.json\", encoding='utf-8')\n",
    "df36 = pd.read_json(\"../raw_data/congress_tweets/congresstweets/data/2017-07-26.json\", encoding='utf-8')\n",
    "df37 = pd.read_json(\"../raw_data/congress_tweets/congresstweets/data/2017-07-27.json\", encoding='utf-8')\n",
    "df38 = pd.read_json(\"../raw_data/congress_tweets/congresstweets/data/2017-07-28.json\", encoding='utf-8')\n",
    "df39 = pd.read_json(\"../raw_data/congress_tweets/congresstweets/data/2017-07-29.json\", encoding='utf-8')\n",
    "df40 = pd.read_json(\"../raw_data/congress_tweets/congresstweets/data/2017-07-30.json\", encoding='utf-8')\n",
    "df41 = pd.read_json(\"../raw_data/congress_tweets/congresstweets/data/2017-08-01.json\", encoding='utf-8')\n",
    "df42 = pd.read_json(\"../raw_data/congress_tweets/congresstweets/data/2017-08-02.json\", encoding='utf-8')\n",
    "df43 = pd.read_json(\"../raw_data/congress_tweets/congresstweets/data/2017-08-03.json\", encoding='utf-8')\n",
    "df44 = pd.read_json(\"../raw_data/congress_tweets/congresstweets/data/2017-08-04.json\", encoding='utf-8')"
   ]
  },
  {
   "cell_type": "code",
   "execution_count": 3,
   "metadata": {
    "collapsed": true
   },
   "outputs": [],
   "source": [
    "df = pd.concat([df1, df2, df3, df4, df5, df6, df7, df8, df9, df10, df11, df12, df13, df14, df15, df16, df17, df19, df20, df21, df22, df23, df24, df25, df26, df27, df28, df29, df30, df31, df32, df33, df34, df35, df36, df37, df38, df39, df40, df41, df42, df43, df44])"
   ]
  },
  {
   "cell_type": "code",
   "execution_count": 4,
   "metadata": {
    "collapsed": true
   },
   "outputs": [],
   "source": [
    "df.drop(['id', 'link'], axis = 1, inplace= True)"
   ]
  },
  {
   "cell_type": "code",
   "execution_count": 5,
   "metadata": {
    "collapsed": true
   },
   "outputs": [],
   "source": [
    "df['time_created'] = df.time"
   ]
  },
  {
   "cell_type": "code",
   "execution_count": 6,
   "metadata": {
    "collapsed": true
   },
   "outputs": [],
   "source": [
    "df.drop('time',1,inplace=True)"
   ]
  },
  {
   "cell_type": "code",
   "execution_count": 7,
   "metadata": {},
   "outputs": [
    {
     "data": {
      "text/html": [
       "<div>\n",
       "<style>\n",
       "    .dataframe thead tr:only-child th {\n",
       "        text-align: right;\n",
       "    }\n",
       "\n",
       "    .dataframe thead th {\n",
       "        text-align: left;\n",
       "    }\n",
       "\n",
       "    .dataframe tbody tr th {\n",
       "        vertical-align: top;\n",
       "    }\n",
       "</style>\n",
       "<table border=\"1\" class=\"dataframe\">\n",
       "  <thead>\n",
       "    <tr style=\"text-align: right;\">\n",
       "      <th></th>\n",
       "      <th>screen_name</th>\n",
       "      <th>source</th>\n",
       "      <th>text</th>\n",
       "      <th>time_created</th>\n",
       "    </tr>\n",
       "  </thead>\n",
       "  <tbody>\n",
       "    <tr>\n",
       "      <th>0</th>\n",
       "      <td>KamalaHarris</td>\n",
       "      <td>Sprout Social</td>\n",
       "      <td>No public hearings. \\nNo debate. \\nNo text.\\nN...</td>\n",
       "      <td>2017-06-21T00:33:01-04:00</td>\n",
       "    </tr>\n",
       "    <tr>\n",
       "      <th>1</th>\n",
       "      <td>tedlieu</td>\n",
       "      <td>Twitter for Android</td>\n",
       "      <td>Why should world leaders trust or listen to US...</td>\n",
       "      <td>2017-06-21T00:02:47-04:00</td>\n",
       "    </tr>\n",
       "    <tr>\n",
       "      <th>2</th>\n",
       "      <td>JerryNadler</td>\n",
       "      <td>Twitter for iPhone</td>\n",
       "      <td>Congratulations to Jon @ossoff and #GADems on ...</td>\n",
       "      <td>2017-06-21T02:00:22-04:00</td>\n",
       "    </tr>\n",
       "    <tr>\n",
       "      <th>3</th>\n",
       "      <td>TulsiGabbard</td>\n",
       "      <td>Twitter for iPhone</td>\n",
       "      <td>Join me in celebrating the gift of yoga on thi...</td>\n",
       "      <td>2017-06-21T01:39:55-04:00</td>\n",
       "    </tr>\n",
       "    <tr>\n",
       "      <th>4</th>\n",
       "      <td>JerryNadler</td>\n",
       "      <td>Twitter for iPhone</td>\n",
       "      <td>#GA06 is #GOP stronghold &amp;amp; @ossoff nearly ...</td>\n",
       "      <td>2017-06-21T02:13:27-04:00</td>\n",
       "    </tr>\n",
       "  </tbody>\n",
       "</table>\n",
       "</div>"
      ],
      "text/plain": [
       "    screen_name               source  \\\n",
       "0  KamalaHarris        Sprout Social   \n",
       "1       tedlieu  Twitter for Android   \n",
       "2   JerryNadler   Twitter for iPhone   \n",
       "3  TulsiGabbard   Twitter for iPhone   \n",
       "4   JerryNadler   Twitter for iPhone   \n",
       "\n",
       "                                                text  \\\n",
       "0  No public hearings. \\nNo debate. \\nNo text.\\nN...   \n",
       "1  Why should world leaders trust or listen to US...   \n",
       "2  Congratulations to Jon @ossoff and #GADems on ...   \n",
       "3  Join me in celebrating the gift of yoga on thi...   \n",
       "4  #GA06 is #GOP stronghold &amp; @ossoff nearly ...   \n",
       "\n",
       "                time_created  \n",
       "0  2017-06-21T00:33:01-04:00  \n",
       "1  2017-06-21T00:02:47-04:00  \n",
       "2  2017-06-21T02:00:22-04:00  \n",
       "3  2017-06-21T01:39:55-04:00  \n",
       "4  2017-06-21T02:13:27-04:00  "
      ]
     },
     "execution_count": 7,
     "metadata": {},
     "output_type": "execute_result"
    }
   ],
   "source": [
    "df.head()"
   ]
  },
  {
   "cell_type": "code",
   "execution_count": 8,
   "metadata": {
    "collapsed": true
   },
   "outputs": [],
   "source": [
    "meta = pd.read_csv('cleaned_meta.csv', encoding='utf-8')"
   ]
  },
  {
   "cell_type": "code",
   "execution_count": 9,
   "metadata": {
    "collapsed": true
   },
   "outputs": [],
   "source": [
    "meta.drop('Unnamed: 0', axis = 1, inplace = True)"
   ]
  },
  {
   "cell_type": "code",
   "execution_count": 10,
   "metadata": {
    "collapsed": true
   },
   "outputs": [],
   "source": [
    "done = pd.DataFrame.merge(df, meta, how = 'left', on = 'screen_name')"
   ]
  },
  {
   "cell_type": "code",
   "execution_count": 11,
   "metadata": {},
   "outputs": [
    {
     "data": {
      "text/html": [
       "<div>\n",
       "<style>\n",
       "    .dataframe thead tr:only-child th {\n",
       "        text-align: right;\n",
       "    }\n",
       "\n",
       "    .dataframe thead th {\n",
       "        text-align: left;\n",
       "    }\n",
       "\n",
       "    .dataframe tbody tr th {\n",
       "        vertical-align: top;\n",
       "    }\n",
       "</style>\n",
       "<table border=\"1\" class=\"dataframe\">\n",
       "  <thead>\n",
       "    <tr style=\"text-align: right;\">\n",
       "      <th></th>\n",
       "      <th>screen_name</th>\n",
       "      <th>source</th>\n",
       "      <th>text</th>\n",
       "      <th>time_created</th>\n",
       "      <th>ch</th>\n",
       "      <th>chamber</th>\n",
       "      <th>name</th>\n",
       "      <th>party</th>\n",
       "      <th>state</th>\n",
       "      <th>type</th>\n",
       "    </tr>\n",
       "  </thead>\n",
       "  <tbody>\n",
       "    <tr>\n",
       "      <th>0</th>\n",
       "      <td>KamalaHarris</td>\n",
       "      <td>Sprout Social</td>\n",
       "      <td>No public hearings. \\nNo debate. \\nNo text.\\nN...</td>\n",
       "      <td>2017-06-21T00:33:01-04:00</td>\n",
       "      <td>yes</td>\n",
       "      <td>senate</td>\n",
       "      <td>Kamala Harris</td>\n",
       "      <td>D</td>\n",
       "      <td>CA</td>\n",
       "      <td>member</td>\n",
       "    </tr>\n",
       "    <tr>\n",
       "      <th>1</th>\n",
       "      <td>tedlieu</td>\n",
       "      <td>Twitter for Android</td>\n",
       "      <td>Why should world leaders trust or listen to US...</td>\n",
       "      <td>2017-06-21T00:02:47-04:00</td>\n",
       "      <td>yes</td>\n",
       "      <td>house</td>\n",
       "      <td>Ted Lieu</td>\n",
       "      <td>D</td>\n",
       "      <td>CA</td>\n",
       "      <td>member</td>\n",
       "    </tr>\n",
       "    <tr>\n",
       "      <th>2</th>\n",
       "      <td>JerryNadler</td>\n",
       "      <td>Twitter for iPhone</td>\n",
       "      <td>Congratulations to Jon @ossoff and #GADems on ...</td>\n",
       "      <td>2017-06-21T02:00:22-04:00</td>\n",
       "      <td>yes</td>\n",
       "      <td>house</td>\n",
       "      <td>Jerrold Nadler</td>\n",
       "      <td>D</td>\n",
       "      <td>NY</td>\n",
       "      <td>member</td>\n",
       "    </tr>\n",
       "    <tr>\n",
       "      <th>3</th>\n",
       "      <td>TulsiGabbard</td>\n",
       "      <td>Twitter for iPhone</td>\n",
       "      <td>Join me in celebrating the gift of yoga on thi...</td>\n",
       "      <td>2017-06-21T01:39:55-04:00</td>\n",
       "      <td>yes</td>\n",
       "      <td>house</td>\n",
       "      <td>Tulsi Gabbard</td>\n",
       "      <td>D</td>\n",
       "      <td>HI</td>\n",
       "      <td>member</td>\n",
       "    </tr>\n",
       "    <tr>\n",
       "      <th>4</th>\n",
       "      <td>JerryNadler</td>\n",
       "      <td>Twitter for iPhone</td>\n",
       "      <td>#GA06 is #GOP stronghold &amp;amp; @ossoff nearly ...</td>\n",
       "      <td>2017-06-21T02:13:27-04:00</td>\n",
       "      <td>yes</td>\n",
       "      <td>house</td>\n",
       "      <td>Jerrold Nadler</td>\n",
       "      <td>D</td>\n",
       "      <td>NY</td>\n",
       "      <td>member</td>\n",
       "    </tr>\n",
       "  </tbody>\n",
       "</table>\n",
       "</div>"
      ],
      "text/plain": [
       "    screen_name               source  \\\n",
       "0  KamalaHarris        Sprout Social   \n",
       "1       tedlieu  Twitter for Android   \n",
       "2   JerryNadler   Twitter for iPhone   \n",
       "3  TulsiGabbard   Twitter for iPhone   \n",
       "4   JerryNadler   Twitter for iPhone   \n",
       "\n",
       "                                                text  \\\n",
       "0  No public hearings. \\nNo debate. \\nNo text.\\nN...   \n",
       "1  Why should world leaders trust or listen to US...   \n",
       "2  Congratulations to Jon @ossoff and #GADems on ...   \n",
       "3  Join me in celebrating the gift of yoga on thi...   \n",
       "4  #GA06 is #GOP stronghold &amp; @ossoff nearly ...   \n",
       "\n",
       "                time_created   ch chamber            name party state    type  \n",
       "0  2017-06-21T00:33:01-04:00  yes  senate   Kamala Harris     D    CA  member  \n",
       "1  2017-06-21T00:02:47-04:00  yes   house        Ted Lieu     D    CA  member  \n",
       "2  2017-06-21T02:00:22-04:00  yes   house  Jerrold Nadler     D    NY  member  \n",
       "3  2017-06-21T01:39:55-04:00  yes   house   Tulsi Gabbard     D    HI  member  \n",
       "4  2017-06-21T02:13:27-04:00  yes   house  Jerrold Nadler     D    NY  member  "
      ]
     },
     "execution_count": 11,
     "metadata": {},
     "output_type": "execute_result"
    }
   ],
   "source": [
    "done.head()"
   ]
  },
  {
   "cell_type": "code",
   "execution_count": 12,
   "metadata": {},
   "outputs": [],
   "source": [
    "T = pd.read_json('../raw_data/trump_tweets/Trump.json')"
   ]
  },
  {
   "cell_type": "code",
   "execution_count": 13,
   "metadata": {
    "collapsed": true
   },
   "outputs": [],
   "source": [
    "T['time_created'] = T['created_at']"
   ]
  },
  {
   "cell_type": "code",
   "execution_count": 14,
   "metadata": {
    "collapsed": true
   },
   "outputs": [],
   "source": [
    "T.drop('created_at', 1, inplace=True)"
   ]
  },
  {
   "cell_type": "code",
   "execution_count": 15,
   "metadata": {
    "collapsed": true
   },
   "outputs": [],
   "source": [
    "T['screen_name'] = \"realDonaldTrump\""
   ]
  },
  {
   "cell_type": "code",
   "execution_count": 16,
   "metadata": {
    "collapsed": true
   },
   "outputs": [],
   "source": [
    "T['chamber'] = \"NaN\""
   ]
  },
  {
   "cell_type": "code",
   "execution_count": 17,
   "metadata": {
    "collapsed": true
   },
   "outputs": [],
   "source": [
    "T['name'] = \"Donald Trump\""
   ]
  },
  {
   "cell_type": "code",
   "execution_count": 18,
   "metadata": {
    "collapsed": true
   },
   "outputs": [],
   "source": [
    "T['party']= 'R'"
   ]
  },
  {
   "cell_type": "code",
   "execution_count": 19,
   "metadata": {
    "collapsed": true
   },
   "outputs": [],
   "source": [
    "T['state'] = \"NaN\""
   ]
  },
  {
   "cell_type": "code",
   "execution_count": 20,
   "metadata": {
    "collapsed": true
   },
   "outputs": [],
   "source": [
    "T['type'] = \"President\""
   ]
  },
  {
   "cell_type": "code",
   "execution_count": 21,
   "metadata": {
    "collapsed": true
   },
   "outputs": [],
   "source": [
    "T['campaign_handle'] = 'no'"
   ]
  },
  {
   "cell_type": "code",
   "execution_count": 22,
   "metadata": {
    "collapsed": true
   },
   "outputs": [],
   "source": [
    "final = pd.concat([done, T])"
   ]
  },
  {
   "cell_type": "code",
   "execution_count": 23,
   "metadata": {
    "collapsed": true
   },
   "outputs": [],
   "source": [
    "final.reset_index(drop=True, inplace=True)"
   ]
  },
  {
   "cell_type": "code",
   "execution_count": 24,
   "metadata": {
    "collapsed": true
   },
   "outputs": [],
   "source": [
    "final.to_csv(\"final_data.csv\", encoding = 'utf-8')"
   ]
  }
 ],
 "metadata": {
  "kernelspec": {
   "display_name": "Python 3",
   "language": "python",
   "name": "python3"
  },
  "language_info": {
   "codemirror_mode": {
    "name": "ipython",
    "version": 3
   },
   "file_extension": ".py",
   "mimetype": "text/x-python",
   "name": "python",
   "nbconvert_exporter": "python",
   "pygments_lexer": "ipython3",
   "version": "3.6.3"
  }
 },
 "nbformat": 4,
 "nbformat_minor": 2
}
