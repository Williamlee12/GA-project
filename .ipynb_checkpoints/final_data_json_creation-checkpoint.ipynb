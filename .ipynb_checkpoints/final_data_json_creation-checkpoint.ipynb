{
 "cells": [
  {
   "cell_type": "code",
   "execution_count": 2,
   "metadata": {
    "collapsed": true
   },
   "outputs": [],
   "source": [
    "import pandas as pd"
   ]
  },
  {
   "cell_type": "code",
   "execution_count": 3,
   "metadata": {},
   "outputs": [],
   "source": [
    "df1 = pd.read_json(\"congress_tweets/congresstweets/data/2017-06-21.json\")\n",
    "df2 = pd.read_json(\"congress_tweets/congresstweets/data/2017-06-22.json\")\n",
    "df3 = pd.read_json(\"congress_tweets/congresstweets/data/2017-06-23.json\")\n",
    "df4 = pd.read_json(\"congress_tweets/congresstweets/data/2017-06-24.json\")\n",
    "df5 = pd.read_json(\"congress_tweets/congresstweets/data/2017-06-25.json\")\n",
    "df6 = pd.read_json(\"congress_tweets/congresstweets/data/2017-06-26.json\")\n",
    "df7 = pd.read_json(\"congress_tweets/congresstweets/data/2017-06-27.json\")\n",
    "df8 = pd.read_json(\"congress_tweets/congresstweets/data/2017-06-28.json\")\n",
    "df9 = pd.read_json(\"congress_tweets/congresstweets/data/2017-06-29.json\")\n",
    "df10 = pd.read_json(\"congress_tweets/congresstweets/data/2017-06-30.json\")\n",
    "df11 = pd.read_json(\"congress_tweets/congresstweets/data/2017-07-01.json\")\n",
    "df12 = pd.read_json(\"congress_tweets/congresstweets/data/2017-07-02.json\")\n",
    "df13 = pd.read_json(\"congress_tweets/congresstweets/data/2017-07-03.json\")\n",
    "df14 = pd.read_json(\"congress_tweets/congresstweets/data/2017-07-04.json\")\n",
    "df15 = pd.read_json(\"congress_tweets/congresstweets/data/2017-07-05.json\")\n",
    "df16 = pd.read_json(\"congress_tweets/congresstweets/data/2017-07-06.json\")\n",
    "df17 = pd.read_json(\"congress_tweets/congresstweets/data/2017-07-07.json\")\n",
    "df18 = pd.read_json(\"congress_tweets/congresstweets/data/2017-07-08.json\")\n",
    "df19 = pd.read_json(\"congress_tweets/congresstweets/data/2017-07-09.json\")\n",
    "df20 = pd.read_json(\"congress_tweets/congresstweets/data/2017-07-10.json\")\n",
    "df21 = pd.read_json(\"congress_tweets/congresstweets/data/2017-07-11.json\")\n",
    "df22 = pd.read_json(\"congress_tweets/congresstweets/data/2017-07-12.json\")\n",
    "df23 = pd.read_json(\"congress_tweets/congresstweets/data/2017-07-13.json\")\n",
    "df24 = pd.read_json(\"congress_tweets/congresstweets/data/2017-07-14.json\")\n",
    "df25 = pd.read_json(\"congress_tweets/congresstweets/data/2017-07-15.json\")\n",
    "df26 = pd.read_json(\"congress_tweets/congresstweets/data/2017-07-16.json\")\n",
    "df27 = pd.read_json(\"congress_tweets/congresstweets/data/2017-07-17.json\")\n",
    "df28 = pd.read_json(\"congress_tweets/congresstweets/data/2017-07-18.json\")\n",
    "df29 = pd.read_json(\"congress_tweets/congresstweets/data/2017-07-19.json\")\n",
    "df30 = pd.read_json(\"congress_tweets/congresstweets/data/2017-07-20.json\")\n",
    "df31 = pd.read_json(\"congress_tweets/congresstweets/data/2017-07-21.json\")\n",
    "df32 = pd.read_json(\"congress_tweets/congresstweets/data/2017-07-22.json\")\n",
    "df33 = pd.read_json(\"congress_tweets/congresstweets/data/2017-07-23.json\")\n",
    "df34 = pd.read_json(\"congress_tweets/congresstweets/data/2017-07-24.json\")\n",
    "df35 = pd.read_json(\"congress_tweets/congresstweets/data/2017-07-25.json\")\n",
    "df36 = pd.read_json(\"congress_tweets/congresstweets/data/2017-07-26.json\")\n",
    "df37 = pd.read_json(\"congress_tweets/congresstweets/data/2017-07-27.json\")\n",
    "df38 = pd.read_json(\"congress_tweets/congresstweets/data/2017-07-28.json\")\n",
    "df39 = pd.read_json(\"congress_tweets/congresstweets/data/2017-07-29.json\")"
   ]
  },
  {
   "cell_type": "code",
   "execution_count": 4,
   "metadata": {
    "collapsed": true
   },
   "outputs": [],
   "source": [
    "df = pd.concat([df1, df2, df3, df4, df5, df6, df7, df8, df9, df10, df11, df12, df13, df14, df15, df16, df17, df19, df20, df21, df22, df23, df24, df25, df26, df27, df28, df29, df30, df31, df32, df33, df34, df35, df36, df37, df38, df39])"
   ]
  },
  {
   "cell_type": "code",
   "execution_count": 5,
   "metadata": {
    "collapsed": true
   },
   "outputs": [],
   "source": [
    "df['time_created'] = pd.to_datetime(df['time'])"
   ]
  },
  {
   "cell_type": "code",
   "execution_count": 6,
   "metadata": {
    "collapsed": true
   },
   "outputs": [],
   "source": [
    "df.drop('time', 1, inplace=True)"
   ]
  },
  {
   "cell_type": "code",
   "execution_count": 7,
   "metadata": {
    "collapsed": true
   },
   "outputs": [],
   "source": [
    "df.drop(['id', 'link'], axis = 1, inplace= True)"
   ]
  },
  {
   "cell_type": "code",
   "execution_count": 8,
   "metadata": {
    "collapsed": true
   },
   "outputs": [],
   "source": [
    "meta = pd.read_csv('cleaned_meta.csv')"
   ]
  },
  {
   "cell_type": "code",
   "execution_count": 9,
   "metadata": {
    "collapsed": true
   },
   "outputs": [],
   "source": [
    "meta.drop('Unnamed: 0', axis = 1, inplace = True)"
   ]
  },
  {
   "cell_type": "code",
   "execution_count": 10,
   "metadata": {
    "collapsed": true
   },
   "outputs": [],
   "source": [
    "done = pd.DataFrame.merge(df, meta, how = 'left', on = 'screen_name')"
   ]
  },
  {
   "cell_type": "code",
   "execution_count": 11,
   "metadata": {
    "collapsed": true
   },
   "outputs": [],
   "source": [
    "done.fillna('NaN', inplace = True)"
   ]
  },
  {
   "cell_type": "code",
   "execution_count": 12,
   "metadata": {
    "collapsed": true
   },
   "outputs": [],
   "source": [
    "done['ch'] = done.campaign_handle.str.contains('yes', case=False).astype(int)"
   ]
  },
  {
   "cell_type": "code",
   "execution_count": 13,
   "metadata": {
    "collapsed": true
   },
   "outputs": [],
   "source": [
    "done.drop('campaign_handle', axis=1, inplace=True)"
   ]
  },
  {
   "cell_type": "code",
   "execution_count": 14,
   "metadata": {
    "collapsed": true
   },
   "outputs": [],
   "source": [
    "T = pd.read_json('trump_tweets/Trump.json')"
   ]
  },
  {
   "cell_type": "code",
   "execution_count": 15,
   "metadata": {
    "collapsed": true
   },
   "outputs": [],
   "source": [
    "T['time_created'] = pd.to_datetime(T['created_at'])"
   ]
  },
  {
   "cell_type": "code",
   "execution_count": 16,
   "metadata": {
    "collapsed": true
   },
   "outputs": [],
   "source": [
    "T.drop('created_at', 1, inplace=True)"
   ]
  },
  {
   "cell_type": "code",
   "execution_count": 17,
   "metadata": {
    "collapsed": true
   },
   "outputs": [],
   "source": [
    "T['screen_name'] = \"realDonaldTrump\""
   ]
  },
  {
   "cell_type": "code",
   "execution_count": 18,
   "metadata": {
    "collapsed": true
   },
   "outputs": [],
   "source": [
    "T['chamber'] = \"NaN\""
   ]
  },
  {
   "cell_type": "code",
   "execution_count": 19,
   "metadata": {
    "collapsed": true
   },
   "outputs": [],
   "source": [
    "T['name'] = \"Donald Trump\""
   ]
  },
  {
   "cell_type": "code",
   "execution_count": 20,
   "metadata": {
    "collapsed": true
   },
   "outputs": [],
   "source": [
    "T['party']= 'R'"
   ]
  },
  {
   "cell_type": "code",
   "execution_count": 21,
   "metadata": {
    "collapsed": true
   },
   "outputs": [],
   "source": [
    "T['state'] = \"NaN\""
   ]
  },
  {
   "cell_type": "code",
   "execution_count": 22,
   "metadata": {
    "collapsed": true
   },
   "outputs": [],
   "source": [
    "T['type'] = \"President\""
   ]
  },
  {
   "cell_type": "code",
   "execution_count": 23,
   "metadata": {
    "collapsed": true
   },
   "outputs": [],
   "source": [
    "T['ch'] = 0"
   ]
  },
  {
   "cell_type": "code",
   "execution_count": 24,
   "metadata": {
    "collapsed": true
   },
   "outputs": [],
   "source": [
    "final = pd.concat([done, T])"
   ]
  },
  {
   "cell_type": "code",
   "execution_count": 25,
   "metadata": {
    "collapsed": true
   },
   "outputs": [],
   "source": [
    "final.reset_index(drop=True, inplace=True)"
   ]
  },
  {
   "cell_type": "code",
   "execution_count": 26,
   "metadata": {
    "collapsed": true
   },
   "outputs": [],
   "source": [
    "final.to_json(\"final_data.json\")"
   ]
  },
  {
   "cell_type": "code",
   "execution_count": null,
   "metadata": {
    "collapsed": true
   },
   "outputs": [],
   "source": []
  }
 ],
 "metadata": {
  "kernelspec": {
   "display_name": "Python 2",
   "language": "python",
   "name": "python2"
  },
  "language_info": {
   "codemirror_mode": {
    "name": "ipython",
    "version": 2
   },
   "file_extension": ".py",
   "mimetype": "text/x-python",
   "name": "python",
   "nbconvert_exporter": "python",
   "pygments_lexer": "ipython2",
   "version": "2.7.13"
  }
 },
 "nbformat": 4,
 "nbformat_minor": 2
}
