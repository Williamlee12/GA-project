{
 "cells": [
  {
   "cell_type": "code",
   "execution_count": 1,
   "metadata": {
    "collapsed": true
   },
   "outputs": [],
   "source": [
    "from sklearn.externals import joblib\n",
    "import numpy as np"
   ]
  },
  {
   "cell_type": "code",
   "execution_count": 3,
   "metadata": {
    "collapsed": true
   },
   "outputs": [],
   "source": [
    "class Analyzer(object):\n",
    "\n",
    "    test_tweets = [\"welcome to washington DC\", \"I want to take your healthcare\"]\n",
    "\n",
    "    def analyze(self, list_of_tweets):\n",
    "        vect = joblib.load('nb_vect.pkl')\n",
    "        nb = joblib.load('nb.pkl')\n",
    "        analyzed_tweets = []\n",
    "        for tweet in list_of_tweets:\n",
    "            sentence = vect.transform(tweet)\n",
    "            probability_array = nb.predict_proba(sentence)\n",
    "            probability = np.array(probability_array).tolist()[0][1]\n",
    "            x = [tweet, probability]\n",
    "            analyzed_tweets.append(x)\n",
    "        return analyzed_tweets"
   ]
  },
  {
   "cell_type": "code",
   "execution_count": 2,
   "metadata": {},
   "outputs": [
    {
     "name": "stdout",
     "output_type": "stream",
     "text": [
      "[[0.004535437988103854, 0.4300990428249489, 0.5653655191869452]]\n",
      "[[0.04721513077129094, 0.946617463177425, 0.006167406051286589]]\n"
     ]
    }
   ],
   "source": [
    "vect = joblib.load('nb_vect.pkl')\n",
    "nb = joblib.load('nb.pkl')\n",
    "analyzed_tweets = []\n",
    "test_tweets = [[\"welcome to washington DC\"], [\"I want to take your healthcare\"]]\n",
    "for tweet in test_tweets:\n",
    "    sentence = vect.transform(tweet)\n",
    "    probability_array = nb.predict_proba(sentence)\n",
    "    probability = np.array(probability_array).tolist()\n",
    "    print(probability)"
   ]
  },
  {
   "cell_type": "code",
   "execution_count": null,
   "metadata": {
    "collapsed": true
   },
   "outputs": [],
   "source": []
  }
 ],
 "metadata": {
  "kernelspec": {
   "display_name": "Python 3",
   "language": "python",
   "name": "python3"
  },
  "language_info": {
   "codemirror_mode": {
    "name": "ipython",
    "version": 3
   },
   "file_extension": ".py",
   "mimetype": "text/x-python",
   "name": "python",
   "nbconvert_exporter": "python",
   "pygments_lexer": "ipython3",
   "version": "3.6.3"
  }
 },
 "nbformat": 4,
 "nbformat_minor": 2
}
